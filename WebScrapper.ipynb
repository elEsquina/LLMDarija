{
 "cells": [
  {
   "cell_type": "code",
   "execution_count": 28,
   "id": "bfa41bef",
   "metadata": {},
   "outputs": [],
   "source": [
    "import requests\n",
    "import datetime\n",
    "import time\n",
    "import tqdm\n",
    "from bs4 import BeautifulSoup\n",
    "import pandas as pd"
   ]
  },
  {
   "cell_type": "code",
   "execution_count": 22,
   "id": "3ac48f11",
   "metadata": {},
   "outputs": [],
   "source": [
    "df = pd.DataFrame(columns=['title', 'date', 'contentLink', 'content'])"
   ]
  },
  {
   "cell_type": "code",
   "execution_count": 32,
   "id": "520e9b1e",
   "metadata": {},
   "outputs": [],
   "source": [
    "def getArticles(parsedHTML):\n",
    "    articles = parsedHTML.find_all('article', class_='card')\n",
    "\n",
    "    for article in articles:\n",
    "        title = article.find('h2', class_='card-title').text.strip()\n",
    "        date = article.find('span', class_='card-post-date').text.strip()\n",
    "        contentLink = article.find(\"a\", class_=\"stretched-link\")['href']\n",
    "\n",
    "        ArticlePage = requests.get(contentLink).text \n",
    "        parsedArticle = BeautifulSoup(ArticlePage, 'html.parser')\n",
    "        content = parsedArticle.find('div', class_='post-content').find_all('p')\n",
    "        df.loc[len(df)] = [title, date, contentLink, '\\n'.join([p.text for p in content if \"<img\" not in str(p) and \"<iframe\" not in str(p) and \"<a\" not in str(p)])]\n"
   ]
  },
  {
   "cell_type": "code",
   "execution_count": 33,
   "id": "fb24049a",
   "metadata": {},
   "outputs": [],
   "source": [
    "def scrapeArticles():\n",
    "    end_date = datetime.date(2020, 1, 1)\n",
    "    current_date = datetime.date.today()\n",
    "\n",
    "    total_days = (current_date - end_date).days + 1\n",
    "\n",
    "    for i in tqdm.tqdm(range(0, total_days, 2), desc=\"Scraping by date\"):\n",
    "        day = current_date - datetime.timedelta(days=i)\n",
    "        dt = datetime.datetime.combine(day, datetime.time())\n",
    "        timestamp = int(time.mktime(dt.timetuple()))\n",
    "\n",
    "        url = f\"https://www.goud.ma/wp-json/?load_more=1&after={timestamp}&taxonomy=category&term=3\"\n",
    "        response = requests.get(url)\n",
    "\n",
    "        if response.status_code == 200:\n",
    "            soup = BeautifulSoup(response.text, 'html.parser')\n",
    "            getArticles(soup)\n",
    "        else:\n",
    "            print(f\"Failed on {day} (Status {response.status_code})\")"
   ]
  },
  {
   "cell_type": "code",
   "execution_count": 34,
   "id": "0b9e12c4",
   "metadata": {},
   "outputs": [
    {
     "name": "stderr",
     "output_type": "stream",
     "text": [
      "Scraping by date: 100%|██████████| 1018/1018 [4:54:43<00:00, 17.37s/it] \n"
     ]
    }
   ],
   "source": [
    "scrapeArticles()"
   ]
  },
  {
   "cell_type": "code",
   "execution_count": null,
   "id": "89a6ae4e",
   "metadata": {},
   "outputs": [],
   "source": [
    "df.to_csv('data/raw/articles.csv')"
   ]
  }
 ],
 "metadata": {
  "kernelspec": {
   "display_name": "LLMChallenge",
   "language": "python",
   "name": "python3"
  },
  "language_info": {
   "codemirror_mode": {
    "name": "ipython",
    "version": 3
   },
   "file_extension": ".py",
   "mimetype": "text/x-python",
   "name": "python",
   "nbconvert_exporter": "python",
   "pygments_lexer": "ipython3",
   "version": "3.10.18"
  }
 },
 "nbformat": 4,
 "nbformat_minor": 5
}
